{
 "cells": [
  {
   "cell_type": "code",
   "execution_count": 24,
   "metadata": {},
   "outputs": [],
   "source": [
    "import numpy as np\n",
    "import pandas as pd\n",
    "\n",
    "class NaiveBayes:\n",
    "    def __init__(self, distr='Gaussian'):\n",
    "        self.distr = distr\n",
    "    \n",
    "    def get_stats(self, X, y):\n",
    "        temp_class = np.unique(y)\n",
    "        classes = [X[y==i] for i in temp_class]\n",
    "        self.mean = np.array([np.mean(class_) for class_ in classes])\n",
    "        self.variance = np.array([np.var(class_) for class_ in classes])\n",
    "        \n",
    "    def pdf(self, X, mean, variance):\n",
    "        # implemented only Gaussian\n",
    "        return np.exp((-(X - mean)*(X - mean)) / (2 * variance)) / (2 * np.pi * variance)\n",
    "    \n",
    "    def fit(self, X_train, y_train):\n",
    "        X = np.array(X_train)\n",
    "        y = np.array(y_train)\n",
    "        self.features = X.shape[1]\n",
    "        classes, classes_count = np.unique(y, return_counts = True)\n",
    "        self.n = len(classes)\n",
    "        self.start_prob = classes_count / y_train.shape[0]\n",
    "        self.get_stats(X_train, y_train)\n",
    "    \n",
    "    def predict_proba(self, X):\n",
    "        X = np.array(X)\n",
    "        rows = X.shape[0]\n",
    "        proba = np.array([[]] * rows)\n",
    "        mean, var = self.mean, self.variance\n",
    "        for i in range(self.n):\n",
    "            pdf = self.pdf(X, mean[i], var[i])\n",
    "            prod = np.prod([pdf[:, j] for j in range(self.features)])\n",
    "            proba_i = prod * self.start_prob[i]\n",
    "            proba = np.append(proba, proba_i.reshape(-1,1), axis=1)\n",
    "        return proba\n",
    "        \n",
    "    \n",
    "    def predict(self, X_test):\n",
    "        y_pred = np.max(self.predict_proba(X_test), axis=1)\n",
    "        return y_pred\n",
    "        \n",
    "    def score(self, X_test, y_test):\n",
    "        return accuracy_score(y_test, self.predict(X_test))"
   ]
  }
 ],
 "metadata": {
  "kernelspec": {
   "display_name": "Python 3",
   "language": "python",
   "name": "python3"
  },
  "language_info": {
   "codemirror_mode": {
    "name": "ipython",
    "version": 3
   },
   "file_extension": ".py",
   "mimetype": "text/x-python",
   "name": "python",
   "nbconvert_exporter": "python",
   "pygments_lexer": "ipython3",
   "version": "3.7.4"
  }
 },
 "nbformat": 4,
 "nbformat_minor": 4
}
