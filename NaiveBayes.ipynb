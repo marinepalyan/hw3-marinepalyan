{
 "cells": [
  {
   "cell_type": "code",
   "execution_count": null,
   "metadata": {},
   "outputs": [],
   "source": [
    "class NaiveBayes:\n",
    "    def __init__(self, distr='Gaussian'):\n",
    "        pass\n",
    "    \n",
    "    def get_stats(X):\n",
    "#         self.class_probs = []\n",
    "        pass\n",
    "#         return mean, variance\n",
    "\n",
    "    def pdf(X, mean, variance):\n",
    "        pass\n",
    "    \n",
    "    def fit(self, X_train, y_train):\n",
    "        pass\n",
    "    \n",
    "    def predict_proba(self):\n",
    "        pass\n",
    "    \n",
    "    def predict(self, weighted=None):\n",
    "        y_pred = self.predict_prob()\n",
    "#         y_pred = np.argmax(y_pred)\n",
    "#         np.random.choice(np.arange(len(y_pred)), y_pred)\n",
    "        pass\n",
    "\n",
    "    def score(self):\n",
    "        pass\n",
    "    \n",
    "    def plot(self):\n",
    "        pass"
   ]
  }
 ],
 "metadata": {
  "kernelspec": {
   "display_name": "Python 3",
   "language": "python",
   "name": "python3"
  },
  "language_info": {
   "codemirror_mode": {
    "name": "ipython",
    "version": 3
   },
   "file_extension": ".py",
   "mimetype": "text/x-python",
   "name": "python",
   "nbconvert_exporter": "python",
   "pygments_lexer": "ipython3",
   "version": "3.7.6"
  }
 },
 "nbformat": 4,
 "nbformat_minor": 4
}
